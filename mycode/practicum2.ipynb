{
 "cells": [
  {
   "cell_type": "code",
   "execution_count": 4,
   "id": "initial_id",
   "metadata": {
    "collapsed": true,
    "ExecuteTime": {
     "end_time": "2024-03-16T11:43:48.402550Z",
     "start_time": "2024-03-16T11:43:48.397747Z"
    }
   },
   "outputs": [],
   "source": [
    "import numpy as np"
   ]
  },
  {
   "cell_type": "code",
   "outputs": [
    {
     "data": {
      "text/plain": "array([[1, 2, 3],\n       [4, 5, 6],\n       [7, 8, 9]])"
     },
     "execution_count": 5,
     "metadata": {},
     "output_type": "execute_result"
    }
   ],
   "source": [
    "m = np.array([[1, 2, 3], [4, 5, 6], [7, 8, 9]])\n",
    "m"
   ],
   "metadata": {
    "collapsed": false,
    "ExecuteTime": {
     "end_time": "2024-03-16T11:43:49.064237Z",
     "start_time": "2024-03-16T11:43:49.052921Z"
    }
   },
   "id": "1014483f2e15f724",
   "execution_count": 5
  },
  {
   "cell_type": "code",
   "outputs": [
    {
     "data": {
      "text/plain": "array([[1, 2],\n       [4, 5]])"
     },
     "execution_count": 6,
     "metadata": {},
     "output_type": "execute_result"
    }
   ],
   "source": [
    "m[:2, :2]"
   ],
   "metadata": {
    "collapsed": false,
    "ExecuteTime": {
     "end_time": "2024-03-16T11:43:49.109259Z",
     "start_time": "2024-03-16T11:43:49.101206Z"
    }
   },
   "id": "c3e2d3208e9b1506",
   "execution_count": 6
  },
  {
   "cell_type": "code",
   "outputs": [
    {
     "data": {
      "text/plain": "array([[1, 2],\n       [8, 9]])"
     },
     "execution_count": 7,
     "metadata": {},
     "output_type": "execute_result"
    }
   ],
   "source": [
    "a = np.array([[1, 2], [8, 9]])\n",
    "a"
   ],
   "metadata": {
    "collapsed": false,
    "ExecuteTime": {
     "end_time": "2024-03-16T11:43:49.219886Z",
     "start_time": "2024-03-16T11:43:49.211281Z"
    }
   },
   "id": "533147fbf8a059b9",
   "execution_count": 7
  },
  {
   "cell_type": "code",
   "outputs": [
    {
     "data": {
      "text/plain": "array([[5, 6]])"
     },
     "execution_count": 8,
     "metadata": {},
     "output_type": "execute_result"
    }
   ],
   "source": [
    "b = np.array([[5, 6]])\n",
    "b"
   ],
   "metadata": {
    "collapsed": false,
    "ExecuteTime": {
     "end_time": "2024-03-16T11:43:49.271416Z",
     "start_time": "2024-03-16T11:43:49.263243Z"
    }
   },
   "id": "58efbf33c2b64a5",
   "execution_count": 8
  },
  {
   "cell_type": "code",
   "outputs": [
    {
     "data": {
      "text/plain": "array([[1, 2],\n       [8, 9],\n       [5, 6]])"
     },
     "execution_count": 9,
     "metadata": {},
     "output_type": "execute_result"
    }
   ],
   "source": [
    "np.concatenate((a, b), axis=0)"
   ],
   "metadata": {
    "collapsed": false,
    "ExecuteTime": {
     "end_time": "2024-03-16T11:43:49.378898Z",
     "start_time": "2024-03-16T11:43:49.365669Z"
    }
   },
   "id": "f46c29d7a0bab84d",
   "execution_count": 9
  },
  {
   "cell_type": "code",
   "outputs": [
    {
     "data": {
      "text/plain": "(2, 2)"
     },
     "execution_count": 10,
     "metadata": {},
     "output_type": "execute_result"
    }
   ],
   "source": [
    "a.shape"
   ],
   "metadata": {
    "collapsed": false,
    "ExecuteTime": {
     "end_time": "2024-03-16T11:43:49.453254Z",
     "start_time": "2024-03-16T11:43:49.445125Z"
    }
   },
   "id": "d303a62611a47687",
   "execution_count": 10
  },
  {
   "cell_type": "code",
   "outputs": [
    {
     "data": {
      "text/plain": "(1, 2)"
     },
     "execution_count": 11,
     "metadata": {},
     "output_type": "execute_result"
    }
   ],
   "source": [
    "b.shape"
   ],
   "metadata": {
    "collapsed": false,
    "ExecuteTime": {
     "end_time": "2024-03-16T11:43:49.555541Z",
     "start_time": "2024-03-16T11:43:49.548315Z"
    }
   },
   "id": "f53a74499cba82ab",
   "execution_count": 11
  },
  {
   "cell_type": "code",
   "outputs": [
    {
     "data": {
      "text/plain": "array([[1, 2, 5],\n       [8, 9, 6]])"
     },
     "execution_count": 12,
     "metadata": {},
     "output_type": "execute_result"
    }
   ],
   "source": [
    "np.concatenate((a, b.T), axis=1)\n"
   ],
   "metadata": {
    "collapsed": false,
    "ExecuteTime": {
     "end_time": "2024-03-16T11:43:49.626675Z",
     "start_time": "2024-03-16T11:43:49.616325Z"
    }
   },
   "id": "5fe68cd9a83a4bf1",
   "execution_count": 12
  },
  {
   "cell_type": "code",
   "outputs": [
    {
     "data": {
      "text/plain": "array([[1, 2],\n       [8, 9],\n       [5, 6]])"
     },
     "execution_count": 13,
     "metadata": {},
     "output_type": "execute_result"
    }
   ],
   "source": [
    "np.vstack((a, b))"
   ],
   "metadata": {
    "collapsed": false,
    "ExecuteTime": {
     "end_time": "2024-03-16T11:43:49.760275Z",
     "start_time": "2024-03-16T11:43:49.749956Z"
    }
   },
   "id": "ccf318acea5c4ac",
   "execution_count": 13
  },
  {
   "cell_type": "code",
   "outputs": [
    {
     "data": {
      "text/plain": "array([[1, 2, 5],\n       [8, 9, 6]])"
     },
     "execution_count": 14,
     "metadata": {},
     "output_type": "execute_result"
    }
   ],
   "source": [
    "np.hstack((a, b.T)) #Аналог concatenate"
   ],
   "metadata": {
    "collapsed": false,
    "ExecuteTime": {
     "end_time": "2024-03-16T11:43:49.815898Z",
     "start_time": "2024-03-16T11:43:49.805811Z"
    }
   },
   "id": "a4c139a00fd80a1a",
   "execution_count": 14
  },
  {
   "cell_type": "code",
   "outputs": [
    {
     "data": {
      "text/plain": "array([[1, 2],\n       [8, 9]])"
     },
     "execution_count": 15,
     "metadata": {},
     "output_type": "execute_result"
    }
   ],
   "source": [
    "a"
   ],
   "metadata": {
    "collapsed": false,
    "ExecuteTime": {
     "end_time": "2024-03-16T11:43:49.925633Z",
     "start_time": "2024-03-16T11:43:49.915459Z"
    }
   },
   "id": "cc2dbe662a70c355",
   "execution_count": 15
  },
  {
   "cell_type": "code",
   "outputs": [
    {
     "data": {
      "text/plain": "2"
     },
     "execution_count": 16,
     "metadata": {},
     "output_type": "execute_result"
    }
   ],
   "source": [
    "a[0,1]"
   ],
   "metadata": {
    "collapsed": false,
    "ExecuteTime": {
     "end_time": "2024-03-16T11:43:49.967530Z",
     "start_time": "2024-03-16T11:43:49.959132Z"
    }
   },
   "id": "93c7c07bf1fb7ce1",
   "execution_count": 16
  },
  {
   "cell_type": "code",
   "outputs": [
    {
     "data": {
      "text/plain": "array([1, 2])"
     },
     "execution_count": 17,
     "metadata": {},
     "output_type": "execute_result"
    }
   ],
   "source": [
    "a[0]"
   ],
   "metadata": {
    "collapsed": false,
    "ExecuteTime": {
     "end_time": "2024-03-16T11:43:50.084457Z",
     "start_time": "2024-03-16T11:43:50.076283Z"
    }
   },
   "id": "e1c694b568be722c",
   "execution_count": 17
  },
  {
   "cell_type": "code",
   "outputs": [
    {
     "data": {
      "text/plain": "array([8, 9])"
     },
     "execution_count": 18,
     "metadata": {},
     "output_type": "execute_result"
    }
   ],
   "source": [
    "a[1]"
   ],
   "metadata": {
    "collapsed": false,
    "ExecuteTime": {
     "end_time": "2024-03-16T11:43:50.130755Z",
     "start_time": "2024-03-16T11:43:50.122450Z"
    }
   },
   "id": "551d40178ee002d",
   "execution_count": 18
  },
  {
   "cell_type": "code",
   "outputs": [
    {
     "data": {
      "text/plain": "2"
     },
     "execution_count": 19,
     "metadata": {},
     "output_type": "execute_result"
    }
   ],
   "source": [
    "a[0,1]"
   ],
   "metadata": {
    "collapsed": false,
    "ExecuteTime": {
     "end_time": "2024-03-16T11:43:50.239492Z",
     "start_time": "2024-03-16T11:43:50.231472Z"
    }
   },
   "id": "66390f42825b0649",
   "execution_count": 19
  },
  {
   "cell_type": "code",
   "outputs": [
    {
     "data": {
      "text/plain": "array([1, 2])"
     },
     "execution_count": 20,
     "metadata": {},
     "output_type": "execute_result"
    }
   ],
   "source": [
    "a[0, :]"
   ],
   "metadata": {
    "collapsed": false,
    "ExecuteTime": {
     "end_time": "2024-03-16T11:43:50.292056Z",
     "start_time": "2024-03-16T11:43:50.283565Z"
    }
   },
   "id": "76c33a7a6adac6c5",
   "execution_count": 20
  },
  {
   "cell_type": "code",
   "outputs": [],
   "source": [
    "a[0, :] = [0, 0]"
   ],
   "metadata": {
    "collapsed": false,
    "ExecuteTime": {
     "end_time": "2024-03-16T11:43:50.387745Z",
     "start_time": "2024-03-16T11:43:50.381732Z"
    }
   },
   "id": "56eb10e34833b8f5",
   "execution_count": 21
  },
  {
   "cell_type": "code",
   "outputs": [
    {
     "data": {
      "text/plain": "array([[0, 0],\n       [8, 9]])"
     },
     "execution_count": 22,
     "metadata": {},
     "output_type": "execute_result"
    }
   ],
   "source": [
    "a"
   ],
   "metadata": {
    "collapsed": false,
    "ExecuteTime": {
     "end_time": "2024-03-16T11:43:50.409299Z",
     "start_time": "2024-03-16T11:43:50.400908Z"
    }
   },
   "id": "8d214453e4546783",
   "execution_count": 22
  },
  {
   "cell_type": "code",
   "outputs": [],
   "source": [
    "a[:,:] = 1"
   ],
   "metadata": {
    "collapsed": false,
    "ExecuteTime": {
     "end_time": "2024-03-16T11:43:50.444950Z",
     "start_time": "2024-03-16T11:43:50.440042Z"
    }
   },
   "id": "f3a9d6727b7baa32",
   "execution_count": 23
  },
  {
   "cell_type": "code",
   "outputs": [
    {
     "data": {
      "text/plain": "array([[1, 1],\n       [1, 1]])"
     },
     "execution_count": 24,
     "metadata": {},
     "output_type": "execute_result"
    }
   ],
   "source": [
    "a"
   ],
   "metadata": {
    "collapsed": false,
    "ExecuteTime": {
     "end_time": "2024-03-16T11:43:50.513897Z",
     "start_time": "2024-03-16T11:43:50.505902Z"
    }
   },
   "id": "d9375cac1bafa2cb",
   "execution_count": 24
  },
  {
   "cell_type": "code",
   "outputs": [],
   "source": [
    "a = np.array([[1, 2], [3, 4]])"
   ],
   "metadata": {
    "collapsed": false,
    "ExecuteTime": {
     "end_time": "2024-03-16T11:43:50.611162Z",
     "start_time": "2024-03-16T11:43:50.605141Z"
    }
   },
   "id": "3c3fab7f3db5a2d9",
   "execution_count": 25
  },
  {
   "cell_type": "code",
   "outputs": [
    {
     "data": {
      "text/plain": "array([[1, 2],\n       [3, 4]])"
     },
     "execution_count": 26,
     "metadata": {},
     "output_type": "execute_result"
    }
   ],
   "source": [
    "a"
   ],
   "metadata": {
    "collapsed": false,
    "ExecuteTime": {
     "end_time": "2024-03-16T11:43:50.675513Z",
     "start_time": "2024-03-16T11:43:50.667429Z"
    }
   },
   "id": "ecd2a5d399e1de68",
   "execution_count": 26
  },
  {
   "cell_type": "code",
   "outputs": [],
   "source": [
    "#Создать нулевую матрицу 5 на 5 с ед. по границам"
   ],
   "metadata": {
    "collapsed": false,
    "ExecuteTime": {
     "end_time": "2024-03-16T11:43:50.774696Z",
     "start_time": "2024-03-16T11:43:50.769380Z"
    }
   },
   "id": "356669132184ceae",
   "execution_count": 27
  },
  {
   "cell_type": "code",
   "outputs": [
    {
     "data": {
      "text/plain": "array([[1, 1, 1, 1, 1],\n       [1, 0, 0, 0, 1],\n       [1, 0, 0, 0, 1],\n       [1, 0, 0, 0, 1],\n       [1, 1, 1, 1, 1]])"
     },
     "execution_count": 28,
     "metadata": {},
     "output_type": "execute_result"
    }
   ],
   "source": [
    "a = np.ones((5, 5), dtype=np.int_)\n",
    "a[1:-1, 1:-1] = 0\n",
    "a"
   ],
   "metadata": {
    "collapsed": false,
    "ExecuteTime": {
     "end_time": "2024-03-16T11:43:50.814595Z",
     "start_time": "2024-03-16T11:43:50.805172Z"
    }
   },
   "id": "6a880b64cd3b0e03",
   "execution_count": 28
  },
  {
   "cell_type": "markdown",
   "source": [
    "ЛИНАЛ"
   ],
   "metadata": {
    "collapsed": false
   },
   "id": "3ecf8ad5ef4a1d9c"
  },
  {
   "cell_type": "code",
   "outputs": [
    {
     "data": {
      "text/plain": "array([0, 1, 2, 3])"
     },
     "execution_count": 29,
     "metadata": {},
     "output_type": "execute_result"
    }
   ],
   "source": [
    "a = np.arange(4)\n",
    "a"
   ],
   "metadata": {
    "collapsed": false,
    "ExecuteTime": {
     "end_time": "2024-03-16T11:43:50.891696Z",
     "start_time": "2024-03-16T11:43:50.884685Z"
    }
   },
   "id": "92358a159f053a41",
   "execution_count": 29
  },
  {
   "cell_type": "code",
   "outputs": [],
   "source": [
    "a += 1"
   ],
   "metadata": {
    "collapsed": false,
    "ExecuteTime": {
     "end_time": "2024-03-16T11:43:50.915830Z",
     "start_time": "2024-03-16T11:43:50.910934Z"
    }
   },
   "id": "463894e4917134dd",
   "execution_count": 30
  },
  {
   "cell_type": "code",
   "outputs": [
    {
     "data": {
      "text/plain": "array([1, 2, 3, 4])"
     },
     "execution_count": 31,
     "metadata": {},
     "output_type": "execute_result"
    }
   ],
   "source": [
    "a"
   ],
   "metadata": {
    "collapsed": false,
    "ExecuteTime": {
     "end_time": "2024-03-16T11:43:50.993154Z",
     "start_time": "2024-03-16T11:43:50.986534Z"
    }
   },
   "id": "a588261fd5948e71",
   "execution_count": 31
  },
  {
   "cell_type": "code",
   "outputs": [
    {
     "data": {
      "text/plain": "array([2, 4, 6, 8])"
     },
     "execution_count": 32,
     "metadata": {},
     "output_type": "execute_result"
    }
   ],
   "source": [
    "a*2"
   ],
   "metadata": {
    "collapsed": false,
    "ExecuteTime": {
     "end_time": "2024-03-16T11:43:51.071608Z",
     "start_time": "2024-03-16T11:43:51.063735Z"
    }
   },
   "id": "a19050e0015c3758",
   "execution_count": 32
  },
  {
   "cell_type": "code",
   "outputs": [
    {
     "data": {
      "text/plain": "array([ 1,  4,  9, 16])"
     },
     "execution_count": 33,
     "metadata": {},
     "output_type": "execute_result"
    }
   ],
   "source": [
    "a**2"
   ],
   "metadata": {
    "collapsed": false,
    "ExecuteTime": {
     "end_time": "2024-03-16T11:43:51.152265Z",
     "start_time": "2024-03-16T11:43:51.144175Z"
    }
   },
   "id": "326a3887a0028ff6",
   "execution_count": 33
  },
  {
   "cell_type": "code",
   "outputs": [
    {
     "data": {
      "text/plain": "array([0.5, 1. , 1.5, 2. ])"
     },
     "execution_count": 34,
     "metadata": {},
     "output_type": "execute_result"
    }
   ],
   "source": [
    "a/2"
   ],
   "metadata": {
    "collapsed": false,
    "ExecuteTime": {
     "end_time": "2024-03-16T11:43:51.186187Z",
     "start_time": "2024-03-16T11:43:51.178669Z"
    }
   },
   "id": "52854dad8dcfff7d",
   "execution_count": 34
  },
  {
   "cell_type": "code",
   "outputs": [],
   "source": [
    "a = np.array([1, 2, 3, 4])\n",
    "b = np.array([4, 2, 2, 4])"
   ],
   "metadata": {
    "collapsed": false,
    "ExecuteTime": {
     "end_time": "2024-03-16T11:43:51.291159Z",
     "start_time": "2024-03-16T11:43:51.285410Z"
    }
   },
   "id": "61699121510ff527",
   "execution_count": 35
  },
  {
   "cell_type": "code",
   "outputs": [
    {
     "data": {
      "text/plain": "array([ 4,  4,  6, 16])"
     },
     "execution_count": 36,
     "metadata": {},
     "output_type": "execute_result"
    }
   ],
   "source": [
    "a * b"
   ],
   "metadata": {
    "collapsed": false,
    "ExecuteTime": {
     "end_time": "2024-03-16T11:43:51.332443Z",
     "start_time": "2024-03-16T11:43:51.326062Z"
    }
   },
   "id": "6433b3d65a717b73",
   "execution_count": 36
  },
  {
   "cell_type": "code",
   "outputs": [
    {
     "data": {
      "text/plain": "array([2, 4])"
     },
     "execution_count": 37,
     "metadata": {},
     "output_type": "execute_result"
    }
   ],
   "source": [
    "a[a == b]"
   ],
   "metadata": {
    "collapsed": false,
    "ExecuteTime": {
     "end_time": "2024-03-16T11:43:51.429281Z",
     "start_time": "2024-03-16T11:43:51.420130Z"
    }
   },
   "id": "ca00e89828ce2b77",
   "execution_count": 37
  },
  {
   "cell_type": "code",
   "outputs": [],
   "source": [
    "a = np.array([[1, 1, 0, 0]], dtype=bool)\n",
    "b = np.array([[1, 0, 1, 0]], dtype=bool)"
   ],
   "metadata": {
    "collapsed": false,
    "ExecuteTime": {
     "end_time": "2024-03-16T11:43:51.457292Z",
     "start_time": "2024-03-16T11:43:51.451303Z"
    }
   },
   "id": "4edb9f490983198e",
   "execution_count": 38
  },
  {
   "cell_type": "code",
   "outputs": [
    {
     "data": {
      "text/plain": "array([[ True, False, False, False]])"
     },
     "execution_count": 39,
     "metadata": {},
     "output_type": "execute_result"
    }
   ],
   "source": [
    "a * b"
   ],
   "metadata": {
    "collapsed": false,
    "ExecuteTime": {
     "end_time": "2024-03-16T11:43:51.504553Z",
     "start_time": "2024-03-16T11:43:51.497648Z"
    }
   },
   "id": "738284b6b0ea4dba",
   "execution_count": 39
  },
  {
   "cell_type": "code",
   "outputs": [
    {
     "data": {
      "text/plain": "array([[ True,  True,  True, False]])"
     },
     "execution_count": 40,
     "metadata": {},
     "output_type": "execute_result"
    }
   ],
   "source": [
    "np.logical_or(a, b)"
   ],
   "metadata": {
    "collapsed": false,
    "ExecuteTime": {
     "end_time": "2024-03-16T11:43:51.604084Z",
     "start_time": "2024-03-16T11:43:51.596805Z"
    }
   },
   "id": "6733cb5940269cd7",
   "execution_count": 40
  },
  {
   "cell_type": "code",
   "outputs": [
    {
     "data": {
      "text/plain": "array([[ True, False, False, False]])"
     },
     "execution_count": 41,
     "metadata": {},
     "output_type": "execute_result"
    }
   ],
   "source": [
    "a & b"
   ],
   "metadata": {
    "collapsed": false,
    "ExecuteTime": {
     "end_time": "2024-03-16T11:43:51.706740Z",
     "start_time": "2024-03-16T11:43:51.699982Z"
    }
   },
   "id": "e0247a13b36d1d7e",
   "execution_count": 41
  },
  {
   "cell_type": "code",
   "outputs": [],
   "source": [
    "#Упр. 4 - \n",
    "\n",
    "#Создать случайный вектор размера 10 и найти среднее значение"
   ],
   "metadata": {
    "collapsed": false,
    "ExecuteTime": {
     "end_time": "2024-03-16T11:43:51.773135Z",
     "start_time": "2024-03-16T11:43:51.767956Z"
    }
   },
   "id": "b3e320d102912af0",
   "execution_count": 42
  },
  {
   "cell_type": "code",
   "outputs": [
    {
     "data": {
      "text/plain": "-0.2737837527120346"
     },
     "execution_count": 43,
     "metadata": {},
     "output_type": "execute_result"
    }
   ],
   "source": [
    "a = np.random.standard_normal(10)\n",
    "a.mean()"
   ],
   "metadata": {
    "collapsed": false,
    "ExecuteTime": {
     "end_time": "2024-03-16T11:43:51.873778Z",
     "start_time": "2024-03-16T11:43:51.865880Z"
    }
   },
   "id": "8a06c04811737d2c",
   "execution_count": 43
  },
  {
   "cell_type": "code",
   "outputs": [],
   "source": [
    "#Создать случайн матрицу 10 на , хранящую декртовые коорд, затем конвертировать их в полярные координаты"
   ],
   "metadata": {
    "collapsed": false,
    "ExecuteTime": {
     "end_time": "2024-03-16T11:43:51.897006Z",
     "start_time": "2024-03-16T11:43:51.891546Z"
    }
   },
   "id": "823bb80a83a59d05",
   "execution_count": 44
  },
  {
   "cell_type": "code",
   "outputs": [
    {
     "name": "stdout",
     "output_type": "stream",
     "text": [
      "[[102.69429793   1.02689476]\n",
      " [117.74060793   0.75721033]\n",
      " [ 74.29781327   1.41630097]\n",
      " [ 90.51190044   1.12264097]\n",
      " [101.61599897   0.38765674]\n",
      " [ 88.77583125   1.04141066]\n",
      " [ 62.67370597   0.76558457]\n",
      " [ 98.87213353   1.41728543]\n",
      " [ 79.88894584   1.18247233]\n",
      " [ 41.68169593   0.93104109]]\n"
     ]
    }
   ],
   "source": [
    "a = np.random.random((10, 2))*100\n",
    "x = np.copy(a[:, 0])\n",
    "y = np.copy(a[:, 1])\n",
    "f = np.sqrt(x**2 + y**2) \n",
    "k = np.arctan2(y, x)\n",
    "\n",
    "#print(a)\n",
    "\n",
    "a[:, 0] = f\n",
    "a[:, 1] = k\n",
    "\n",
    "print(a)\n"
   ],
   "metadata": {
    "collapsed": false,
    "ExecuteTime": {
     "end_time": "2024-03-16T11:43:51.926338Z",
     "start_time": "2024-03-16T11:43:51.918351Z"
    }
   },
   "id": "60b8701b6e863b63",
   "execution_count": 45
  },
  {
   "cell_type": "code",
   "outputs": [
    {
     "data": {
      "text/plain": "array([[1., 2.],\n       [3., 4.]])"
     },
     "execution_count": 46,
     "metadata": {},
     "output_type": "execute_result"
    }
   ],
   "source": [
    "m = np.array([[1.0, 2.0], [3.0, 4.0]])\n",
    "m"
   ],
   "metadata": {
    "collapsed": false,
    "ExecuteTime": {
     "end_time": "2024-03-16T11:43:51.996073Z",
     "start_time": "2024-03-16T11:43:51.987841Z"
    }
   },
   "id": "2fbb9018f0727304",
   "execution_count": 46
  },
  {
   "cell_type": "code",
   "outputs": [
    {
     "data": {
      "text/plain": "array([[ 1.,  4.],\n       [ 9., 16.]])"
     },
     "execution_count": 47,
     "metadata": {},
     "output_type": "execute_result"
    }
   ],
   "source": [
    "m*m"
   ],
   "metadata": {
    "collapsed": false,
    "ExecuteTime": {
     "end_time": "2024-03-16T11:43:52.088774Z",
     "start_time": "2024-03-16T11:43:52.081621Z"
    }
   },
   "id": "e08cbe34971bcb2d",
   "execution_count": 47
  },
  {
   "cell_type": "code",
   "outputs": [
    {
     "data": {
      "text/plain": "array([[ 7., 10.],\n       [15., 22.]])"
     },
     "execution_count": 48,
     "metadata": {},
     "output_type": "execute_result"
    }
   ],
   "source": [
    "m.dot(m) "
   ],
   "metadata": {
    "collapsed": false,
    "ExecuteTime": {
     "end_time": "2024-03-16T11:43:52.168473Z",
     "start_time": "2024-03-16T11:43:52.157005Z"
    }
   },
   "id": "a791f91ebd5613c3",
   "execution_count": 48
  },
  {
   "cell_type": "code",
   "outputs": [
    {
     "data": {
      "text/plain": "array([[ 7., 10.],\n       [15., 22.]])"
     },
     "execution_count": 49,
     "metadata": {},
     "output_type": "execute_result"
    }
   ],
   "source": [
    "m @ m"
   ],
   "metadata": {
    "collapsed": false,
    "ExecuteTime": {
     "end_time": "2024-03-16T11:43:52.258476Z",
     "start_time": "2024-03-16T11:43:52.249866Z"
    }
   },
   "id": "27f77d544bae9a5e",
   "execution_count": 49
  },
  {
   "cell_type": "code",
   "outputs": [],
   "source": [
    "x = np.zeros((2, 2), dtype=float)"
   ],
   "metadata": {
    "collapsed": false,
    "ExecuteTime": {
     "end_time": "2024-03-16T11:43:52.380008Z",
     "start_time": "2024-03-16T11:43:52.374478Z"
    }
   },
   "id": "e67703e8b1de4e54",
   "execution_count": 50
  },
  {
   "cell_type": "code",
   "outputs": [
    {
     "data": {
      "text/plain": "array([[ 7., 10.],\n       [15., 22.]])"
     },
     "execution_count": 51,
     "metadata": {},
     "output_type": "execute_result"
    }
   ],
   "source": [
    "m.dot(m, out=x) #Перемножаем m на m и сохраняем в x - экономия памяти"
   ],
   "metadata": {
    "collapsed": false,
    "ExecuteTime": {
     "end_time": "2024-03-16T11:43:52.487849Z",
     "start_time": "2024-03-16T11:43:52.478516Z"
    }
   },
   "id": "86cc6fb8adcf9870",
   "execution_count": 51
  },
  {
   "cell_type": "code",
   "outputs": [
    {
     "data": {
      "text/plain": "array([[ 1, -1],\n       [-2, -2]])"
     },
     "execution_count": 52,
     "metadata": {},
     "output_type": "execute_result"
    }
   ],
   "source": [
    "m = np.array([[1, -1], [-2, -2]])\n",
    "m"
   ],
   "metadata": {
    "collapsed": false,
    "ExecuteTime": {
     "end_time": "2024-03-16T11:43:52.498449Z",
     "start_time": "2024-03-16T11:43:52.491141Z"
    }
   },
   "id": "9df4895debb994fe",
   "execution_count": 52
  },
  {
   "cell_type": "code",
   "outputs": [
    {
     "data": {
      "text/plain": "array([[1, 1],\n       [2, 2]])"
     },
     "execution_count": 53,
     "metadata": {},
     "output_type": "execute_result"
    }
   ],
   "source": [
    "np.abs(m)"
   ],
   "metadata": {
    "collapsed": false,
    "ExecuteTime": {
     "end_time": "2024-03-16T11:43:52.536453Z",
     "start_time": "2024-03-16T11:43:52.529284Z"
    }
   },
   "id": "6dd3344607121c18",
   "execution_count": 53
  },
  {
   "cell_type": "code",
   "outputs": [
    {
     "data": {
      "text/plain": "array([[ 0.5 , -0.25],\n       [-0.5 , -0.25]])"
     },
     "execution_count": 54,
     "metadata": {},
     "output_type": "execute_result"
    }
   ],
   "source": [
    "np.linalg.inv(m) #Обратная матрица, использ при небольшой размерности, до 10к строк"
   ],
   "metadata": {
    "collapsed": false,
    "ExecuteTime": {
     "end_time": "2024-03-16T11:43:52.601470Z",
     "start_time": "2024-03-16T11:43:52.591362Z"
    }
   },
   "id": "5204837aa98556da",
   "execution_count": 54
  },
  {
   "cell_type": "code",
   "outputs": [
    {
     "data": {
      "text/plain": "-4.0"
     },
     "execution_count": 55,
     "metadata": {},
     "output_type": "execute_result"
    }
   ],
   "source": [
    "np.linalg.det(m)"
   ],
   "metadata": {
    "collapsed": false,
    "ExecuteTime": {
     "end_time": "2024-03-16T11:43:52.646729Z",
     "start_time": "2024-03-16T11:43:52.637608Z"
    }
   },
   "id": "8ce537a417188634",
   "execution_count": 55
  },
  {
   "cell_type": "code",
   "outputs": [],
   "source": [
    "#Упр 6\n",
    "\n",
    "#Найти ближ значение к числу 4 в векторе [4.3, 1.0, 3.9, 5.0, 2.0, 1.9]"
   ],
   "metadata": {
    "collapsed": false,
    "ExecuteTime": {
     "end_time": "2024-03-16T11:43:52.759471Z",
     "start_time": "2024-03-16T11:43:52.754817Z"
    }
   },
   "id": "56ace26c94923357",
   "execution_count": 56
  },
  {
   "cell_type": "code",
   "outputs": [
    {
     "data": {
      "text/plain": "3.9"
     },
     "execution_count": 57,
     "metadata": {},
     "output_type": "execute_result"
    }
   ],
   "source": [
    "m = np.array([4.3, 1.0, 3.9, 5.0, 2.0, 1.9])\n",
    "m[np.argmin(abs(m-4))]"
   ],
   "metadata": {
    "collapsed": false,
    "ExecuteTime": {
     "end_time": "2024-03-16T11:43:52.787737Z",
     "start_time": "2024-03-16T11:43:52.779534Z"
    }
   },
   "id": "af0c9eda7216c5e4",
   "execution_count": 57
  },
  {
   "cell_type": "code",
   "outputs": [],
   "source": [
    "def foo(x):\n",
    "    return x**2 + 2"
   ],
   "metadata": {
    "collapsed": false,
    "ExecuteTime": {
     "end_time": "2024-03-16T11:43:52.883690Z",
     "start_time": "2024-03-16T11:43:52.877506Z"
    }
   },
   "id": "496167679469fd6c",
   "execution_count": 58
  },
  {
   "cell_type": "code",
   "outputs": [
    {
     "data": {
      "text/plain": "11"
     },
     "execution_count": 59,
     "metadata": {},
     "output_type": "execute_result"
    }
   ],
   "source": [
    "foo(3)"
   ],
   "metadata": {
    "collapsed": false,
    "ExecuteTime": {
     "end_time": "2024-03-16T11:43:52.926797Z",
     "start_time": "2024-03-16T11:43:52.919299Z"
    }
   },
   "id": "96f902afbda88b47",
   "execution_count": 59
  },
  {
   "cell_type": "code",
   "outputs": [],
   "source": [
    "a = np.array([1.0, 2.0, 3.0])"
   ],
   "metadata": {
    "collapsed": false,
    "ExecuteTime": {
     "end_time": "2024-03-16T11:43:53.016148Z",
     "start_time": "2024-03-16T11:43:53.009865Z"
    }
   },
   "id": "4d4e1429199f69c2",
   "execution_count": 60
  },
  {
   "cell_type": "code",
   "outputs": [
    {
     "data": {
      "text/plain": "array([ 3.,  6., 11.])"
     },
     "execution_count": 61,
     "metadata": {},
     "output_type": "execute_result"
    }
   ],
   "source": [
    "foo(a)"
   ],
   "metadata": {
    "collapsed": false,
    "ExecuteTime": {
     "end_time": "2024-03-16T11:43:53.064751Z",
     "start_time": "2024-03-16T11:43:53.056375Z"
    }
   },
   "id": "a823caef0bea47e6",
   "execution_count": 61
  },
  {
   "cell_type": "code",
   "outputs": [],
   "source": [
    "def bar(x):\n",
    "    if x >= 0:\n",
    "        return 1\n",
    "    else:\n",
    "        return 0"
   ],
   "metadata": {
    "collapsed": false,
    "ExecuteTime": {
     "end_time": "2024-03-16T11:43:53.124124Z",
     "start_time": "2024-03-16T11:43:53.117801Z"
    }
   },
   "id": "b21f642b60f3aec4",
   "execution_count": 62
  },
  {
   "cell_type": "code",
   "outputs": [],
   "source": [
    "a = np.array([-1.0, 2.0, 3.0])\n"
   ],
   "metadata": {
    "collapsed": false,
    "ExecuteTime": {
     "end_time": "2024-03-16T11:43:53.189318Z",
     "start_time": "2024-03-16T11:43:53.183383Z"
    }
   },
   "id": "c396f90e47b46737",
   "execution_count": 63
  },
  {
   "cell_type": "code",
   "outputs": [
    {
     "ename": "ValueError",
     "evalue": "The truth value of an array with more than one element is ambiguous. Use a.any() or a.all()",
     "output_type": "error",
     "traceback": [
      "\u001B[1;31m---------------------------------------------------------------------------\u001B[0m",
      "\u001B[1;31mValueError\u001B[0m                                Traceback (most recent call last)",
      "Cell \u001B[1;32mIn[64], line 1\u001B[0m\n\u001B[1;32m----> 1\u001B[0m bar(a)\n",
      "Cell \u001B[1;32mIn[62], line 2\u001B[0m, in \u001B[0;36mbar\u001B[1;34m(x)\u001B[0m\n\u001B[0;32m      1\u001B[0m \u001B[38;5;28;01mdef\u001B[39;00m \u001B[38;5;21mbar\u001B[39m(x):\n\u001B[1;32m----> 2\u001B[0m     \u001B[38;5;28;01mif\u001B[39;00m x \u001B[38;5;241m>\u001B[39m\u001B[38;5;241m=\u001B[39m \u001B[38;5;241m0\u001B[39m:\n\u001B[0;32m      3\u001B[0m         \u001B[38;5;28;01mreturn\u001B[39;00m \u001B[38;5;241m1\u001B[39m\n\u001B[0;32m      4\u001B[0m     \u001B[38;5;28;01melse\u001B[39;00m:\n",
      "\u001B[1;31mValueError\u001B[0m: The truth value of an array with more than one element is ambiguous. Use a.any() or a.all()"
     ]
    }
   ],
   "source": [
    "bar(a)"
   ],
   "metadata": {
    "collapsed": false,
    "ExecuteTime": {
     "end_time": "2024-03-16T11:43:53.312988Z",
     "start_time": "2024-03-16T11:43:53.278797Z"
    }
   },
   "id": "26d6f4a5269edaa4",
   "execution_count": 64
  },
  {
   "cell_type": "code",
   "outputs": [],
   "source": [
    "bar_vec = np.vectorize(bar)"
   ],
   "metadata": {
    "collapsed": false,
    "ExecuteTime": {
     "end_time": "2024-03-16T11:43:53.330243Z",
     "start_time": "2024-03-16T11:43:53.325231Z"
    }
   },
   "id": "57fe0695f1b28846",
   "execution_count": 65
  },
  {
   "cell_type": "code",
   "outputs": [],
   "source": [
    "a = np.array([-1.0, 2.0, 3.0])"
   ],
   "metadata": {
    "collapsed": false,
    "ExecuteTime": {
     "end_time": "2024-03-16T11:44:12.174660Z",
     "start_time": "2024-03-16T11:44:12.169063Z"
    }
   },
   "id": "34e1e0ef69f12a78",
   "execution_count": 67
  },
  {
   "cell_type": "code",
   "outputs": [
    {
     "data": {
      "text/plain": "array([0, 1, 1])"
     },
     "execution_count": 68,
     "metadata": {},
     "output_type": "execute_result"
    }
   ],
   "source": [
    "bar_vec(a)"
   ],
   "metadata": {
    "collapsed": false,
    "ExecuteTime": {
     "end_time": "2024-03-16T11:44:27.444340Z",
     "start_time": "2024-03-16T11:44:27.436391Z"
    }
   },
   "id": "b0cbbeb2a9f0b721",
   "execution_count": 68
  },
  {
   "cell_type": "code",
   "outputs": [],
   "source": [
    "import matplotlib.pyplot as plt"
   ],
   "metadata": {
    "collapsed": false,
    "ExecuteTime": {
     "end_time": "2024-03-16T11:47:59.568220Z",
     "start_time": "2024-03-16T11:47:58.189736Z"
    }
   },
   "id": "eaebba82f36ca86d",
   "execution_count": 69
  },
  {
   "cell_type": "code",
   "outputs": [
    {
     "data": {
      "text/plain": "[<matplotlib.lines.Line2D at 0x174e5585390>]"
     },
     "execution_count": 71,
     "metadata": {},
     "output_type": "execute_result"
    },
    {
     "data": {
      "text/plain": "<Figure size 640x480 with 1 Axes>",
      "image/png": "[encoded data removed]"
     },
     "metadata": {},
     "output_type": "display_data"
    }
   ],
   "source": [
    "x = np.linspace(-2, 2, 128)\n",
    "y1 = x**2\n",
    "y2 = np.exp(x)\n",
    "\n",
    "plt.plot(x, y1)\n",
    "plt.plot(x, y2)"
   ],
   "metadata": {
    "collapsed": false,
    "ExecuteTime": {
     "end_time": "2024-03-16T11:49:47.490620Z",
     "start_time": "2024-03-16T11:49:47.193346Z"
    }
   },
   "id": "e9564af9d886655",
   "execution_count": 71
  },
  {
   "cell_type": "code",
   "outputs": [
    {
     "name": "stderr",
     "output_type": "stream",
     "text": [
      "No artists with labels found to put in legend.  Note that artists whose label start with an underscore are ignored when legend() is called with no argument.\n",
      "No artists with labels found to put in legend.  Note that artists whose label start with an underscore are ignored when legend() is called with no argument.\n"
     ]
    },
    {
     "data": {
      "text/plain": "<Figure size 1200x600 with 4 Axes>",
      "image/png": "[encoded data removed]"
     },
     "metadata": {},
     "output_type": "display_data"
    }
   ],
   "source": [
    "x = np.linspace(2, 16, 128)\n",
    "y1 = x**2\n",
    "y2 = np.exp(x)\n",
    "fig, axes = plt.subplots(2, 2, figsize=(12, 6))\n",
    "\n",
    "axes[0, 0].plot(x, y1, label=\"y1\")\n",
    "axes[1, 1].plot(x, y2, label=\"y2\")\n",
    "axes[1, 0].plot(x, np.sqrt(x))\n",
    "axes[0, 1].plot(x, x**3)\n",
    "\n",
    "for ax in axes.reshape(-1):\n",
    "    ax.set_xlabel(r\"$x$\", fontsize=12)\n",
    "    ax.set_ylabel(r\"$y(x)$\", fontsize=12)\n",
    "    ax.set_xlim(1)\n",
    "    ax.grid()\n",
    "    ax.legend()\n",
    "fig.tight_layout()\n",
    "fig.savefig(\"qwer.png\")\n",
    "#plt.plot(x, y1)\n",
    "#plt.plot(x, y2)"
   ],
   "metadata": {
    "collapsed": false,
    "ExecuteTime": {
     "end_time": "2024-03-16T12:08:56.907252Z",
     "start_time": "2024-03-16T12:08:55.645606Z"
    }
   },
   "id": "18db6abc5cd0b0fb",
   "execution_count": 87
  },
  {
   "cell_type": "code",
   "outputs": [],
   "source": [],
   "metadata": {
    "collapsed": false
   },
   "id": "b205a9079a138e18"
  }
 ],
 "metadata": {
  "kernelspec": {
   "display_name": "Python 3",
   "language": "python",
   "name": "python3"
  },
  "language_info": {
   "codemirror_mode": {
    "name": "ipython",
    "version": 2
   },
   "file_extension": ".py",
   "mimetype": "text/x-python",
   "name": "python",
   "nbconvert_exporter": "python",
   "pygments_lexer": "ipython2",
   "version": "2.7.6"
  }
 },
 "nbformat": 4,
 "nbformat_minor": 5
}
